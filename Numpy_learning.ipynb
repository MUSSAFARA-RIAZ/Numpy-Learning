{
  "nbformat": 4,
  "nbformat_minor": 0,
  "metadata": {
    "colab": {
      "provenance": [],
      "authorship_tag": "ABX9TyP5ANQ36suvk17eODe+uO25",
      "include_colab_link": true
    },
    "kernelspec": {
      "name": "python3",
      "display_name": "Python 3"
    },
    "language_info": {
      "name": "python"
    }
  },
  "cells": [
    {
      "cell_type": "markdown",
      "metadata": {
        "id": "view-in-github",
        "colab_type": "text"
      },
      "source": [
        "<a href=\"https://colab.research.google.com/github/MUSSAFARA-RIAZ/Numpy-Learning/blob/main/Numpy_learning.ipynb\" target=\"_parent\"><img src=\"https://colab.research.google.com/assets/colab-badge.svg\" alt=\"Open In Colab\"/></a>"
      ]
    },
    {
      "cell_type": "code",
      "execution_count": 91,
      "metadata": {
        "id": "I2AT2SVHysBB"
      },
      "outputs": [],
      "source": [
        "#Numpy- Numerical Python\n",
        "## In our datasets, we have multiple numerical values to deal with the numerical values -- used to process the numerical values\n",
        "#Advantages\n",
        "# Allow several Mathematical operations\n",
        "# Faster operations\n"
      ]
    },
    {
      "cell_type": "code",
      "source": [
        "import numpy as np\n",
        "#List vs Numpy\n",
        "from time import process_time\n",
        "#Time taken by a list\n",
        "python_list=[i for i in range(10000)]\n",
        "start_time=process_time()\n",
        "python_list=[i+5 for i in python_list]\n",
        "end_time=process_time()\n",
        "print(end_time-start_time)\n"
      ],
      "metadata": {
        "colab": {
          "base_uri": "https://localhost:8080/"
        },
        "id": "t_n38xHlzWVj",
        "outputId": "d1b197ac-dbf3-42a7-9830-692a4b27c541"
      },
      "execution_count": 92,
      "outputs": [
        {
          "output_type": "stream",
          "name": "stdout",
          "text": [
            "0.0009534630000018751\n"
          ]
        }
      ]
    },
    {
      "cell_type": "code",
      "source": [
        "np_array=np.array([i for i in range(10000)])\n",
        "start_time=process_time()\n",
        "np_array+=5\n",
        "end_time=process_time()\n",
        "print(end_time-start_time)"
      ],
      "metadata": {
        "id": "lK3-3dz30W-P",
        "colab": {
          "base_uri": "https://localhost:8080/"
        },
        "outputId": "6a0d92c7-58f0-4b87-c5cf-9e08a8ae98bd"
      },
      "execution_count": 93,
      "outputs": [
        {
          "output_type": "stream",
          "name": "stdout",
          "text": [
            "0.00013186199999637438\n"
          ]
        }
      ]
    },
    {
      "cell_type": "code",
      "source": [
        "#Numpy"
      ],
      "metadata": {
        "id": "YN1iQUoHcbeY"
      },
      "execution_count": 94,
      "outputs": []
    },
    {
      "cell_type": "code",
      "source": [
        "type(np_array)"
      ],
      "metadata": {
        "colab": {
          "base_uri": "https://localhost:8080/"
        },
        "id": "mznO0HVbdIah",
        "outputId": "808cad42-d488-4e14-e409-b00d2c4109a0"
      },
      "execution_count": 95,
      "outputs": [
        {
          "output_type": "execute_result",
          "data": {
            "text/plain": [
              "numpy.ndarray"
            ]
          },
          "metadata": {},
          "execution_count": 95
        }
      ]
    },
    {
      "cell_type": "code",
      "source": [
        "array1=np.array([[1,2,3,4],[5,6,7,8]])\n",
        "array1.shape"
      ],
      "metadata": {
        "colab": {
          "base_uri": "https://localhost:8080/"
        },
        "id": "iGMZc0vBdOPP",
        "outputId": "8fdbaf25-9b61-47f6-f411-f9b242c57375"
      },
      "execution_count": 96,
      "outputs": [
        {
          "output_type": "execute_result",
          "data": {
            "text/plain": [
              "(2, 4)"
            ]
          },
          "metadata": {},
          "execution_count": 96
        }
      ]
    },
    {
      "cell_type": "code",
      "source": [
        "array2=np.array([1,2,3,4])\n",
        "array2.shape"
      ],
      "metadata": {
        "colab": {
          "base_uri": "https://localhost:8080/"
        },
        "id": "bvOy0UZtdtK4",
        "outputId": "03c11e72-dc6f-410d-f663-8fe81da3cafa"
      },
      "execution_count": 97,
      "outputs": [
        {
          "output_type": "execute_result",
          "data": {
            "text/plain": [
              "(4,)"
            ]
          },
          "metadata": {},
          "execution_count": 97
        }
      ]
    },
    {
      "cell_type": "code",
      "source": [
        "#Numpy array with multiple dimension\n",
        "array3=np.array([(1,2,3,4),(5,6,7,8)])\n",
        "array3.shape"
      ],
      "metadata": {
        "colab": {
          "base_uri": "https://localhost:8080/"
        },
        "id": "t58kqz0ndzQo",
        "outputId": "a87f5c5f-4a66-4bd4-825c-01b674ffe9b6"
      },
      "execution_count": 98,
      "outputs": [
        {
          "output_type": "execute_result",
          "data": {
            "text/plain": [
              "(2, 4)"
            ]
          },
          "metadata": {},
          "execution_count": 98
        }
      ]
    },
    {
      "cell_type": "code",
      "source": [
        "array4=np.array([(1,2,3,4),(5,6,7,8)],dtype=\"float\")\n",
        "print(array4)"
      ],
      "metadata": {
        "colab": {
          "base_uri": "https://localhost:8080/"
        },
        "id": "4XcXzN2VeLLm",
        "outputId": "eb1a4ef1-7d90-44fd-ba6c-8eede57cf08d"
      },
      "execution_count": 99,
      "outputs": [
        {
          "output_type": "stream",
          "name": "stdout",
          "text": [
            "[[1. 2. 3. 4.]\n",
            " [5. 6. 7. 8.]]\n"
          ]
        }
      ]
    },
    {
      "cell_type": "code",
      "source": [
        "# Initial placeholders in numpy arrays\n",
        "x=np.zeros((4,5))\n",
        "print(x)"
      ],
      "metadata": {
        "colab": {
          "base_uri": "https://localhost:8080/"
        },
        "id": "YUluxW_qev21",
        "outputId": "055d018e-99fe-4dfc-e462-d259914763da"
      },
      "execution_count": 100,
      "outputs": [
        {
          "output_type": "stream",
          "name": "stdout",
          "text": [
            "[[0. 0. 0. 0. 0.]\n",
            " [0. 0. 0. 0. 0.]\n",
            " [0. 0. 0. 0. 0.]\n",
            " [0. 0. 0. 0. 0.]]\n"
          ]
        }
      ]
    },
    {
      "cell_type": "code",
      "source": [
        "y=np.ones((4,5))\n",
        "print(y)"
      ],
      "metadata": {
        "colab": {
          "base_uri": "https://localhost:8080/"
        },
        "id": "SJvJaiSjf0hm",
        "outputId": "8cfb2ece-7e88-4b1f-af3c-972b3c2ddd21"
      },
      "execution_count": 101,
      "outputs": [
        {
          "output_type": "stream",
          "name": "stdout",
          "text": [
            "[[1. 1. 1. 1. 1.]\n",
            " [1. 1. 1. 1. 1.]\n",
            " [1. 1. 1. 1. 1.]\n",
            " [1. 1. 1. 1. 1.]]\n"
          ]
        }
      ]
    },
    {
      "cell_type": "code",
      "source": [
        "#array of a particular value\n",
        "z=np.full((4,5),2,dtype=\"float\")\n",
        "print(z)"
      ],
      "metadata": {
        "colab": {
          "base_uri": "https://localhost:8080/"
        },
        "id": "HYRJ7hAtgReu",
        "outputId": "84784272-c631-4471-a171-5bead697f65d"
      },
      "execution_count": 102,
      "outputs": [
        {
          "output_type": "stream",
          "name": "stdout",
          "text": [
            "[[2. 2. 2. 2. 2.]\n",
            " [2. 2. 2. 2. 2.]\n",
            " [2. 2. 2. 2. 2.]\n",
            " [2. 2. 2. 2. 2.]]\n"
          ]
        }
      ]
    },
    {
      "cell_type": "code",
      "source": [
        "# create an identity matrix\n",
        "indentity_matrix=np.eye(4)\n",
        "print(indentity_matrix)"
      ],
      "metadata": {
        "colab": {
          "base_uri": "https://localhost:8080/"
        },
        "id": "50uyxtNlgeog",
        "outputId": "646f5f2f-5bfe-44f0-a47f-887a1018b463"
      },
      "execution_count": 103,
      "outputs": [
        {
          "output_type": "stream",
          "name": "stdout",
          "text": [
            "[[1. 0. 0. 0.]\n",
            " [0. 1. 0. 0.]\n",
            " [0. 0. 1. 0.]\n",
            " [0. 0. 0. 1.]]\n"
          ]
        }
      ]
    },
    {
      "cell_type": "code",
      "source": [
        "#create an numpy array with random values\n",
        "b=np.random.random((3,4))\n",
        "print(b)\n",
        "# all the values are between 0-1"
      ],
      "metadata": {
        "colab": {
          "base_uri": "https://localhost:8080/"
        },
        "id": "IyTua-0zg6Rt",
        "outputId": "3bb6488d-28c0-47c9-ab0c-d396dda837b3"
      },
      "execution_count": 104,
      "outputs": [
        {
          "output_type": "stream",
          "name": "stdout",
          "text": [
            "[[0.25394743 0.40072021 0.56113824 0.08815658]\n",
            " [0.69760247 0.0794517  0.48565862 0.13382156]\n",
            " [0.88527075 0.23152535 0.80727297 0.57258588]]\n"
          ]
        }
      ]
    },
    {
      "cell_type": "code",
      "source": [
        "# random integer value array within the specified range\n",
        "x=np.random.randint(10,100,(3,5))\n",
        "print(x)\n",
        "# 10-100 value"
      ],
      "metadata": {
        "colab": {
          "base_uri": "https://localhost:8080/"
        },
        "id": "eKoQwppwhVDK",
        "outputId": "9fee2bc1-fd1b-4bbd-aed1-a638cc796c88"
      },
      "execution_count": 105,
      "outputs": [
        {
          "output_type": "stream",
          "name": "stdout",
          "text": [
            "[[22 95 24 54 22]\n",
            " [20 15 84 75 63]\n",
            " [96 52 94 45 16]]\n"
          ]
        }
      ]
    },
    {
      "cell_type": "code",
      "source": [
        "# array of evenly spaced value\n",
        "y=np.linspace(10,30,5)\n",
        "print(y)\n",
        "# third value is the number of value you want"
      ],
      "metadata": {
        "colab": {
          "base_uri": "https://localhost:8080/"
        },
        "id": "Tp3Zyx2Xh3p1",
        "outputId": "6ff4abb8-f59e-4232-fbb2-5ae1998bb99b"
      },
      "execution_count": 106,
      "outputs": [
        {
          "output_type": "stream",
          "name": "stdout",
          "text": [
            "[10. 15. 20. 25. 30.]\n"
          ]
        }
      ]
    },
    {
      "cell_type": "code",
      "source": [
        "z=np.arange(10,100,5)\n",
        "# arange method is used to generate evenly spaced values between range and third para is the step value\n",
        "print(z)"
      ],
      "metadata": {
        "colab": {
          "base_uri": "https://localhost:8080/"
        },
        "id": "4IqTtd4uioaE",
        "outputId": "4515eb7b-5489-4f4c-ed88-09eb63baa23c"
      },
      "execution_count": 107,
      "outputs": [
        {
          "output_type": "stream",
          "name": "stdout",
          "text": [
            "[10 15 20 25 30 35 40 45 50 55 60 65 70 75 80 85 90 95]\n"
          ]
        }
      ]
    },
    {
      "cell_type": "code",
      "source": [
        "# convert a list into numpy array\n",
        "list1=[1,2,3,4]\n",
        "np_array=np.asarray(list1)\n",
        "print(np_array)\n",
        "np.dtype"
      ],
      "metadata": {
        "colab": {
          "base_uri": "https://localhost:8080/"
        },
        "id": "cE7uAEWdkWjC",
        "outputId": "91d62667-870e-48da-e008-a32260939dac"
      },
      "execution_count": 108,
      "outputs": [
        {
          "output_type": "stream",
          "name": "stdout",
          "text": [
            "[1 2 3 4]\n"
          ]
        },
        {
          "output_type": "execute_result",
          "data": {
            "text/plain": [
              "numpy.dtype"
            ]
          },
          "metadata": {},
          "execution_count": 108
        }
      ]
    },
    {
      "cell_type": "code",
      "source": [
        "# Analysing numpy array"
      ],
      "metadata": {
        "id": "WXId50EJlkiO"
      },
      "execution_count": 109,
      "outputs": []
    },
    {
      "cell_type": "code",
      "source": [
        "matrix1=np.random.randint(10,100,(6,6))\n",
        "print(matrix1)"
      ],
      "metadata": {
        "colab": {
          "base_uri": "https://localhost:8080/"
        },
        "id": "IB0WUyRb97_J",
        "outputId": "4aaaab33-4502-450b-ead3-39399677176c"
      },
      "execution_count": 110,
      "outputs": [
        {
          "output_type": "stream",
          "name": "stdout",
          "text": [
            "[[97 40 26 73 49 99]\n",
            " [22 51 33 71 26 13]\n",
            " [77 75 68 83 78 98]\n",
            " [94 97 98 45 39 98]\n",
            " [84 43 37 76 63 72]\n",
            " [45 77 71 10 75 52]]\n"
          ]
        }
      ]
    },
    {
      "cell_type": "code",
      "source": [
        "# dimension\n",
        "print(matrix1.shape)"
      ],
      "metadata": {
        "colab": {
          "base_uri": "https://localhost:8080/"
        },
        "id": "7ZwmM2I4-JfN",
        "outputId": "0d1653ec-a1b0-495b-e6c9-df1e345cf259"
      },
      "execution_count": 111,
      "outputs": [
        {
          "output_type": "stream",
          "name": "stdout",
          "text": [
            "(6, 6)\n"
          ]
        }
      ]
    },
    {
      "cell_type": "code",
      "source": [
        "#num of dimension\n",
        "print(matrix1.ndim)"
      ],
      "metadata": {
        "colab": {
          "base_uri": "https://localhost:8080/"
        },
        "id": "n1xkeez_-TbA",
        "outputId": "b1e3df6e-dc86-4d87-af8a-52b190ff4a3f"
      },
      "execution_count": 112,
      "outputs": [
        {
          "output_type": "stream",
          "name": "stdout",
          "text": [
            "2\n"
          ]
        }
      ]
    },
    {
      "cell_type": "code",
      "source": [
        "#num of elements in an array\n",
        "print(matrix1.size)"
      ],
      "metadata": {
        "colab": {
          "base_uri": "https://localhost:8080/"
        },
        "id": "-qBPvj_zBkDu",
        "outputId": "384a2ada-0581-4f74-bfc8-36664609fbfa"
      },
      "execution_count": 113,
      "outputs": [
        {
          "output_type": "stream",
          "name": "stdout",
          "text": [
            "36\n"
          ]
        }
      ]
    },
    {
      "cell_type": "code",
      "source": [
        "# checking the data types of the values in an array\n",
        "print(matrix1.dtype)"
      ],
      "metadata": {
        "colab": {
          "base_uri": "https://localhost:8080/"
        },
        "id": "OGrgNesuBsay",
        "outputId": "478c20c9-1729-4e8e-f322-c8286989c5ec"
      },
      "execution_count": 114,
      "outputs": [
        {
          "output_type": "stream",
          "name": "stdout",
          "text": [
            "int64\n"
          ]
        }
      ]
    },
    {
      "cell_type": "code",
      "source": [
        "# Mathematical Operation that can be performed on np array"
      ],
      "metadata": {
        "id": "AzrUMcBgB_p1"
      },
      "execution_count": 115,
      "outputs": []
    },
    {
      "cell_type": "code",
      "source": [
        "array1=np.random.randint(10,100,(3,3))\n",
        "array2=np.random.randint(50,100,(3,3))\n",
        "print(array1+array2)"
      ],
      "metadata": {
        "colab": {
          "base_uri": "https://localhost:8080/"
        },
        "id": "TxgYJA6uCLzk",
        "outputId": "4109cc04-d649-4bd4-ebf3-e90b07a515ad"
      },
      "execution_count": 116,
      "outputs": [
        {
          "output_type": "stream",
          "name": "stdout",
          "text": [
            "[[ 81 103 102]\n",
            " [137 181 106]\n",
            " [139 134  89]]\n"
          ]
        }
      ]
    },
    {
      "cell_type": "code",
      "source": [
        "print(np.add(array1,array2))\n",
        "print(np.subtract(array1,array2))\n",
        "print(np.multiply(array1,array2))\n",
        "print(np.divide(array1,array2))"
      ],
      "metadata": {
        "colab": {
          "base_uri": "https://localhost:8080/"
        },
        "id": "-reID9ngC6ED",
        "outputId": "16491873-57ba-4eb4-eb0c-9277e9a4f074"
      },
      "execution_count": 117,
      "outputs": [
        {
          "output_type": "stream",
          "name": "stdout",
          "text": [
            "[[ 81 103 102]\n",
            " [137 181 106]\n",
            " [139 134  89]]\n",
            "[[-61 -81 -26]\n",
            " [ 19  17 -86]\n",
            " [ -3 -30 -67]]\n",
            "[[ 710 1012 2432]\n",
            " [4602 8118  960]\n",
            " [4828 4264  858]]\n",
            "[[0.14084507 0.11956522 0.59375   ]\n",
            " [1.3220339  1.20731707 0.10416667]\n",
            " [0.95774648 0.63414634 0.14102564]]\n"
          ]
        }
      ]
    },
    {
      "cell_type": "code",
      "source": [
        "#Array Manipulation\n",
        "x=np.random.randint(10,100,(2,3))\n",
        "print(np.transpose(x))"
      ],
      "metadata": {
        "colab": {
          "base_uri": "https://localhost:8080/"
        },
        "id": "1E42-1m8DPUV",
        "outputId": "dfa658fa-f6cc-4fad-ff0c-12fa352f8898"
      },
      "execution_count": 118,
      "outputs": [
        {
          "output_type": "stream",
          "name": "stdout",
          "text": [
            "[[49 24]\n",
            " [61 88]\n",
            " [14 11]]\n"
          ]
        }
      ]
    },
    {
      "cell_type": "code",
      "source": [
        "#Another way to find transpose\n",
        "print(x.T)"
      ],
      "metadata": {
        "colab": {
          "base_uri": "https://localhost:8080/"
        },
        "id": "JzW78YNjEMwj",
        "outputId": "6f52f346-9213-4cd7-d480-8cbead41b4e6"
      },
      "execution_count": 119,
      "outputs": [
        {
          "output_type": "stream",
          "name": "stdout",
          "text": [
            "[[49 24]\n",
            " [61 88]\n",
            " [14 11]]\n"
          ]
        }
      ]
    },
    {
      "cell_type": "code",
      "source": [
        "#Reshaping an array\n",
        "r1=np.random.randint(10,100,(3,2))\n",
        "r2=r1.reshape(2,3)\n",
        "print(r2)"
      ],
      "metadata": {
        "colab": {
          "base_uri": "https://localhost:8080/"
        },
        "id": "-U1hKwXJEs1o",
        "outputId": "7f53e938-9b5c-4658-86c5-8379810e433e"
      },
      "execution_count": 120,
      "outputs": [
        {
          "output_type": "stream",
          "name": "stdout",
          "text": [
            "[[23 34 58]\n",
            " [96 67 78]]\n"
          ]
        }
      ]
    },
    {
      "cell_type": "code",
      "source": [
        "# The tool flatten creates a copy of the input array flattened to one dimension.\n",
        "my_array = np.array([[1,2,3],\n",
        "                        [4,5,6]])\n",
        "print(my_array.flatten())"
      ],
      "metadata": {
        "colab": {
          "base_uri": "https://localhost:8080/"
        },
        "id": "bpOisrMVFKMe",
        "outputId": "6e9913c4-21d6-408a-ece3-1383fc264d43"
      },
      "execution_count": 121,
      "outputs": [
        {
          "output_type": "stream",
          "name": "stdout",
          "text": [
            "[1 2 3 4 5 6]\n"
          ]
        }
      ]
    },
    {
      "cell_type": "code",
      "source": [],
      "metadata": {
        "id": "jlJsjBHIRFtt"
      },
      "execution_count": 121,
      "outputs": []
    }
  ]
}